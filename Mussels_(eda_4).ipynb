{
  "cells": [
    {
      "cell_type": "markdown",
      "metadata": {
        "id": "view-in-github",
        "colab_type": "text"
      },
      "source": [
        "<a href=\"https://colab.research.google.com/github/Raoufmamedov/DSPR/blob/main/Mussels_(eda_4).ipynb\" target=\"_parent\"><img src=\"https://colab.research.google.com/assets/colab-badge.svg\" alt=\"Open In Colab\"/></a>"
      ]
    },
    {
      "cell_type": "markdown",
      "metadata": {
        "id": "6D6X-qaiC41B",
        "tags": []
      },
      "source": [
        "# Домашнее задание"
      ]
    },
    {
      "cell_type": "markdown",
      "metadata": {
        "id": "9LRTnw71DHUf"
      },
      "source": [
        "Используя информацию по мидиям Петербурга и Магадана, которые представлены в виде двух массивов petersburg и magadan в разделе ANOVA тест, проверьте данные на нормальность и на наличие корреляции. Для этого объедините 2 массива в DataFrame. Обоснуйте выбор теста на корреляцию. Сделайте вывод по гипотезе.\n",
        " \n",
        " \n",
        "Также ответьте на вопрос:\n",
        "Какова разница в среднем размере мидии в зависимости от города-производителя. Обоснуйте выбор теста. Сделайте вывод по гипотезе.\n"
      ]
    },
    {
      "cell_type": "markdown",
      "metadata": {
        "id": "-9-AJMorPGz3"
      },
      "source": [
        "Используя информацию по мидиям Петербурга и Магадана, которые представлены в виде двух массивов petersburg и magadan в разделе ANOVA-тест, проверьте данные на нормальность и на наличие корреляции. \n",
        "\n",
        "Для этого:\n",
        "\n",
        "* Объедините два массива в DataFrame. \n",
        "* Обоснуйте выбор теста на корреляцию. \n",
        "* Сделайте вывод по гипотезе.\n",
        "* Ответьте на вопрос: Какова разница в среднем размере мидии в зависимости от города-производителя\n",
        "* Обоснуйте выбор теста. \n",
        "* Сделайте вывод по гипотезе."
      ]
    },
    {
      "cell_type": "markdown",
      "metadata": {
        "id": "OHVffejibt2_",
        "tags": []
      },
      "source": [
        "# Установка библиотек"
      ]
    },
    {
      "cell_type": "code",
      "execution_count": null,
      "metadata": {
        "id": "KduVFzA8a6FL"
      },
      "outputs": [],
      "source": [
        "import pandas as pd #для работы с таблицами\n",
        "import numpy as np\n",
        "from scipy.stats import shapiro, normaltest, ttest_ind, f_oneway, mannwhitneyu\n",
        "from scipy.stats.mstats import spearmanr\n",
        "import matplotlib.pyplot as plt\n",
        "import seaborn as sns"
      ]
    },
    {
      "cell_type": "markdown",
      "metadata": {
        "id": "-vBWXginfhcC"
      },
      "source": [
        "\n",
        "# Загрузка данных"
      ]
    },
    {
      "cell_type": "code",
      "execution_count": null,
      "metadata": {
        "id": "wZBbsO6891Vo"
      },
      "outputs": [],
      "source": [
        "petersburg = [0.0974, 0.1352, 0.0817, 0.1016, 0.0968, 0.1064, 0.105]\n",
        "magadan = [0.1033, 0.0915, 0.0781, 0.0685, 0.0677, 0.0697, 0.0764, 0.0689]\n"
      ]
    },
    {
      "cell_type": "markdown",
      "metadata": {
        "id": "jmNM7n1KPGz8"
      },
      "source": [
        "Для начала сведём выборки в единый датафрейм и найдём средние значения размера моллюска для обеих выборок."
      ]
    },
    {
      "cell_type": "code",
      "execution_count": null,
      "metadata": {
        "id": "RyxkdhUsPGz9"
      },
      "outputs": [],
      "source": [
        "mussels=pd.DataFrame(data=[petersburg, magadan]).T \n",
        "mussels.columns=['Saint-Petersburg', 'Magadan']"
      ]
    },
    {
      "cell_type": "code",
      "execution_count": null,
      "metadata": {
        "id": "PM3kSHBtPGz_"
      },
      "outputs": [],
      "source": []
    },
    {
      "cell_type": "code",
      "execution_count": null,
      "metadata": {
        "id": "PoQ8806KPGz_",
        "outputId": "8a70b9be-6ede-479b-a5ac-87a8ef1059ad"
      },
      "outputs": [
        {
          "data": {
            "text/plain": [
              "Saint-Petersburg    0.103443\n",
              "Magadan             0.078012\n",
              "dtype: float64"
            ]
          },
          "execution_count": 4,
          "metadata": {},
          "output_type": "execute_result"
        }
      ],
      "source": [
        "mussels.mean()"
      ]
    },
    {
      "cell_type": "code",
      "execution_count": null,
      "metadata": {
        "id": "Zjri5RvVPG0A",
        "outputId": "8ffd87b1-a131-4934-cb00-d2da4f5f5c65"
      },
      "outputs": [
        {
          "data": {
            "text/plain": [
              "32.6"
            ]
          },
          "execution_count": 5,
          "metadata": {},
          "output_type": "execute_result"
        }
      ],
      "source": [
        "round((mussels.mean()[0]/mussels.mean()[1]-1)*100, 1)"
      ]
    },
    {
      "cell_type": "markdown",
      "metadata": {
        "id": "d8n8nc_0PG0B"
      },
      "source": [
        "Итак мидии из Санкт-Петербурга крупнее своих Магаданских сородичей на 32.6%, практиически на треть! Если бы у нас была большая выборка, было бы очевидно что питерские мидии значимо крупнее магаданских. Но у нас всего 6 наблюдений для мидий первых и 7 наблюдений для вторых. Следовательно наше преположение о значимости различия может оказаться несостоятельным, и мы должны проверить наше предположение.\n",
        "\n",
        "Для этого, нам для начала надо определиться с методом, который мы будем использовать для проверки нашего предположения. а выбор метода будет определяться тем являются ли распределения мидий по размерам нормальными или нет. "
      ]
    },
    {
      "cell_type": "markdown",
      "metadata": {
        "id": "gs57XZXxPG0B"
      },
      "source": [
        "Поскольку у нас отсутствует значение для седьмого измерения по Санкт-Петербургу, заменим пропуск модальным значением для этой выборки."
      ]
    },
    {
      "cell_type": "code",
      "execution_count": null,
      "metadata": {
        "id": "kU4rM-rKPG0C"
      },
      "outputs": [],
      "source": [
        "mussels.fillna(mussels['Saint-Petersburg'].median(), inplace=True)"
      ]
    },
    {
      "cell_type": "code",
      "execution_count": null,
      "metadata": {
        "id": "ZGwiqsYmPG0C",
        "outputId": "00ac4c37-e8fb-41f1-98ca-bdb498e0e966"
      },
      "outputs": [
        {
          "data": {
            "text/plain": [
              "Saint-Petersburg    0.103212\n",
              "Magadan             0.078012\n",
              "dtype: float64"
            ]
          },
          "execution_count": 7,
          "metadata": {},
          "output_type": "execute_result"
        }
      ],
      "source": [
        "mussels.mean()"
      ]
    },
    {
      "cell_type": "markdown",
      "metadata": {
        "id": "tmWBEv_vPG0D"
      },
      "source": [
        "Находим также среднее значение для всего набора данных."
      ]
    },
    {
      "cell_type": "code",
      "execution_count": null,
      "metadata": {
        "id": "dV5LAUcnPG0E",
        "outputId": "3ce3dfb2-beb0-4b4c-dafe-b09424c2f398"
      },
      "outputs": [
        {
          "data": {
            "text/plain": [
              "0.0906125"
            ]
          },
          "execution_count": 9,
          "metadata": {},
          "output_type": "execute_result"
        }
      ],
      "source": [
        "mussels.to_numpy().flatten().mean()"
      ]
    },
    {
      "cell_type": "markdown",
      "metadata": {
        "id": "PlwYTrzDPG0E"
      },
      "source": [
        "Построим гистограммы распределений мидий по размеру для каждой выборки и для суммарной выборки."
      ]
    },
    {
      "cell_type": "code",
      "execution_count": null,
      "metadata": {
        "id": "eWqOFaPhPG0F",
        "outputId": "e9750c7e-ac01-42d3-cbe6-fb9cd444d1ee"
      },
      "outputs": [
        {
          "data": {
            "text/plain": [
              "<AxesSubplot:ylabel='Count'>"
            ]
          },
          "execution_count": 10,
          "metadata": {},
          "output_type": "execute_result"
        },
        {
          "data": {
            "image/png": "[encoded data removed]",
            "text/plain": [
              "<Figure size 864x432 with 3 Axes>"
            ]
          },
          "metadata": {
            "needs_background": "light"
          },
          "output_type": "display_data"
        }
      ],
      "source": [
        "fig, axes =plt.subplots(nrows=1, ncols=3, figsize=(12, 6), sharey=True, sharex=True)\n",
        "sns.histplot(mussels['Saint-Petersburg'], ax=axes[0], kde=True)\n",
        "sns.histplot(mussels['Magadan'], ax=axes[1], kde=True)\n",
        "sns.histplot(mussels, ax=axes[2], kde=True)"
      ]
    },
    {
      "cell_type": "markdown",
      "metadata": {
        "id": "-23abK5APG0F"
      },
      "source": [
        "В сравнени с распределением по размерам мидий выращенных в Магадане, характер распределения мидий выращенных в Санкт-Петербурге выглядит визуально ближе к гауссову. Формулируем нулевую гипотезу о нормальности распределения для каждой из выборок (H0), и альтернативную о нарушении нормальности (Ha)."
      ]
    },
    {
      "cell_type": "code",
      "execution_count": null,
      "metadata": {
        "id": "I9M0a3qn2QIw"
      },
      "outputs": [],
      "source": [
        "H0 = 'Данные распределены нормально'\n",
        "Ha = 'Данные не распределены нормально (мы отвергаем H0)'\n",
        "alpha = 0.05"
      ]
    },
    {
      "cell_type": "code",
      "execution_count": null,
      "metadata": {
        "id": "6kz9DRDUPG0G",
        "outputId": "6c9cdb2d-c142-4b2a-93f6-0425985e9322"
      },
      "outputs": [
        {
          "data": {
            "text/html": [
              "<div>\n",
              "<style scoped>\n",
              "    .dataframe tbody tr th:only-of-type {\n",
              "        vertical-align: middle;\n",
              "    }\n",
              "\n",
              "    .dataframe tbody tr th {\n",
              "        vertical-align: top;\n",
              "    }\n",
              "\n",
              "    .dataframe thead th {\n",
              "        text-align: right;\n",
              "    }\n",
              "</style>\n",
              "<table border=\"1\" class=\"dataframe\">\n",
              "  <thead>\n",
              "    <tr style=\"text-align: right;\">\n",
              "      <th></th>\n",
              "      <th>Saint-Petersburg</th>\n",
              "      <th>Magadan</th>\n",
              "    </tr>\n",
              "  </thead>\n",
              "  <tbody>\n",
              "    <tr>\n",
              "      <th>0</th>\n",
              "      <td>0.0974</td>\n",
              "      <td>0.1033</td>\n",
              "    </tr>\n",
              "    <tr>\n",
              "      <th>1</th>\n",
              "      <td>0.1352</td>\n",
              "      <td>0.0915</td>\n",
              "    </tr>\n",
              "    <tr>\n",
              "      <th>2</th>\n",
              "      <td>0.0817</td>\n",
              "      <td>0.0781</td>\n",
              "    </tr>\n",
              "    <tr>\n",
              "      <th>3</th>\n",
              "      <td>0.1016</td>\n",
              "      <td>0.0685</td>\n",
              "    </tr>\n",
              "    <tr>\n",
              "      <th>4</th>\n",
              "      <td>0.0968</td>\n",
              "      <td>0.0677</td>\n",
              "    </tr>\n",
              "    <tr>\n",
              "      <th>5</th>\n",
              "      <td>0.1064</td>\n",
              "      <td>0.0697</td>\n",
              "    </tr>\n",
              "    <tr>\n",
              "      <th>6</th>\n",
              "      <td>0.1050</td>\n",
              "      <td>0.0764</td>\n",
              "    </tr>\n",
              "    <tr>\n",
              "      <th>7</th>\n",
              "      <td>0.1016</td>\n",
              "      <td>0.0689</td>\n",
              "    </tr>\n",
              "  </tbody>\n",
              "</table>\n",
              "</div>"
            ],
            "text/plain": [
              "   Saint-Petersburg  Magadan\n",
              "0            0.0974   0.1033\n",
              "1            0.1352   0.0915\n",
              "2            0.0817   0.0781\n",
              "3            0.1016   0.0685\n",
              "4            0.0968   0.0677\n",
              "5            0.1064   0.0697\n",
              "6            0.1050   0.0764\n",
              "7            0.1016   0.0689"
            ]
          },
          "execution_count": 12,
          "metadata": {},
          "output_type": "execute_result"
        }
      ],
      "source": [
        "mussels"
      ]
    },
    {
      "cell_type": "code",
      "execution_count": null,
      "metadata": {
        "id": "3uCrZb3mPG0H"
      },
      "outputs": [],
      "source": [
        "def checker(testname, city ,test, df, alpha=0.05): # Фунция тестировавания нормальности\n",
        "    _, p = test(df)\n",
        "    print(testname, 'для популяции:',city )\n",
        "    print('p=%.3f' % p,\":\",H0 if p > alpha else Ha)"
      ]
    },
    {
      "cell_type": "markdown",
      "metadata": {
        "id": "W7hG5sEM2lmb",
        "tags": []
      },
      "source": [
        "# Проверка данных на нормальность\n"
      ]
    },
    {
      "cell_type": "markdown",
      "metadata": {
        "id": "pCXYmT6Ix2H1"
      },
      "source": [
        "## Тест Шапиро-Уилка"
      ]
    },
    {
      "cell_type": "code",
      "execution_count": null,
      "metadata": {
        "id": "PQIWK3ekPG0I",
        "outputId": "04f7f259-f219-45f5-d5f3-3fd4835c425a"
      },
      "outputs": [
        {
          "name": "stdout",
          "output_type": "stream",
          "text": [
            "Тест Шапиро-Уилка для популяции: Cанкт-Петербург\n",
            "p=0.106 : Данные распределены нормально\n"
          ]
        }
      ],
      "source": [
        "checker('Тест Шапиро-Уилка', \"Cанкт-Петербург\", shapiro, mussels.iloc[:,0])"
      ]
    },
    {
      "cell_type": "code",
      "execution_count": null,
      "metadata": {
        "id": "_3-BMxn8PG0I",
        "outputId": "9b45e405-7323-4a70-ef7d-0daa56e136be"
      },
      "outputs": [
        {
          "name": "stdout",
          "output_type": "stream",
          "text": [
            "Тест Шапиро-Уилка для популяции: Магадан\n",
            "p=0.036 : Данные не распределены нормально (мы отвергаем H0)\n"
          ]
        }
      ],
      "source": [
        "checker('Тест Шапиро-Уилка', \"Магадан\", shapiro, mussels.iloc[:,1])"
      ]
    },
    {
      "cell_type": "code",
      "execution_count": null,
      "metadata": {
        "id": "D0dGbYdPPG0I",
        "outputId": "01419a02-92c7-46fc-d025-f3f7a7fb4bd4"
      },
      "outputs": [
        {
          "name": "stdout",
          "output_type": "stream",
          "text": [
            "Тест Шапиро-Уилка для популяции: Объединённая выборка\n",
            "p=0.101 : Данные распределены нормально\n"
          ]
        }
      ],
      "source": [
        "checker('Тест Шапиро-Уилка', \"Объединённая выборка\", shapiro, mussels)"
      ]
    },
    {
      "cell_type": "markdown",
      "metadata": {
        "id": "qNqlqHXcPG0J"
      },
      "source": [
        "По результатам теста Шапиро-Уилка, мы строго говоря не можем использовать метод Стьюдента для проверки предположения об отсутствии различий в среднем размере мидии для двух популяций из-за серьёзного отклонения от нормальности распределения для мидий из Магадана. Вместо этого препочтительнее использовать критерий Манна-Уитни. Однако, мы проверим гипотезу о среднем значении обоими методами."
      ]
    },
    {
      "cell_type": "markdown",
      "metadata": {
        "id": "ZUTL3OctykmR"
      },
      "source": [
        "## Тест Д’Агостино"
      ]
    },
    {
      "cell_type": "markdown",
      "metadata": {
        "id": "5z9CpXbuPG0J"
      },
      "source": [
        "Строго говоря, Тест Д’Агостино требует для правильной оценки перекоса как минимум 20 наблюдений, но мы всё же проверим нормальность с его помощью. Поскольку тест возвращает двухстороннюю верояность, уменьшаем значенире уровня значимости до 0.025)"
      ]
    },
    {
      "cell_type": "code",
      "execution_count": null,
      "metadata": {
        "id": "7NblA5bOPG0K",
        "outputId": "f30a50f3-96d5-4255-a665-6f7d27fc668b"
      },
      "outputs": [
        {
          "name": "stdout",
          "output_type": "stream",
          "text": [
            "Тест Д'Aгостино для популяции: Cанкт-Петербург\n",
            "p=0.035 : Данные распределены нормально\n"
          ]
        }
      ],
      "source": [
        "checker(\"Тест Д'Aгостино\", \"Cанкт-Петербург\", normaltest, mussels.iloc[:,0], alpha=0.025)"
      ]
    },
    {
      "cell_type": "code",
      "execution_count": null,
      "metadata": {
        "id": "6jWZ2RPXPG0L",
        "outputId": "eb2a4f62-8495-4d02-9b3f-5ba8a3dbe71f"
      },
      "outputs": [
        {
          "name": "stdout",
          "output_type": "stream",
          "text": [
            "Тест Д'Aгостино для популяции: Магадан\n",
            "p=0.154 : Данные распределены нормально\n"
          ]
        }
      ],
      "source": [
        "checker(\"Тест Д'Aгостино\", \"Магадан\", normaltest, mussels.iloc[:,1], alpha=0.025)"
      ]
    },
    {
      "cell_type": "code",
      "execution_count": null,
      "metadata": {
        "id": "NVwDMd6vPG0M",
        "outputId": "cb649cef-2f07-446a-bd8b-f9c6e4995992"
      },
      "outputs": [
        {
          "name": "stdout",
          "output_type": "stream",
          "text": [
            "Тест Д'Aгостино для популяции: \"Объединённая выборка\"\n",
            "p=0.452 : Данные распределены нормально\n"
          ]
        }
      ],
      "source": [
        "checker(\"Тест Д'Aгостино\", '\"Объединённая выборка\"', normaltest,  mussels.to_numpy().flatten(), alpha=0.025)"
      ]
    },
    {
      "cell_type": "markdown",
      "metadata": {
        "id": "ET2nktqgPG0M"
      },
      "source": [
        "Согласно тесту Д'Агостино, данные распределены нормально. Объединённую выборку метод Д'Агостино считает нормальной, и с ещё более высокой уверенностю чем метод Шапиро-Уилка."
      ]
    },
    {
      "cell_type": "markdown",
      "metadata": {
        "id": "rI2MmVWNPG0N"
      },
      "source": [
        "# Проверка гипотезы о равенстве средних размеров."
      ]
    },
    {
      "cell_type": "markdown",
      "metadata": {
        "id": "sexRsmWWPG0N"
      },
      "source": [
        "## Постановка гипотез"
      ]
    },
    {
      "cell_type": "markdown",
      "metadata": {
        "id": "RCaSAmCXPG0N"
      },
      "source": [
        "Мы фомулируем 2 гипотезы:\n",
        "* H0- Различия в размере мидий несущественны, при увеличении размера выборки средние значения будут сближаться\n",
        "* H1- Различия существенны, и при увеличении выборки различия в распределении по размерам будут становиться всё более очевидными."
      ]
    },
    {
      "cell_type": "markdown",
      "metadata": {
        "id": "-nyj_KGKPG0N"
      },
      "source": [
        "Выберем уровень значимости. Цена ошибки не является для нас особо критической, поэтому уровень 0.01 будет слишком строгим. \n",
        "Однако, если интерес к размерам мидий имеет под собой коммерческую основу (более крупные особи стоят дороже), и гипотеза окажется ошибочной, а магаданских мидий будет больше, компания покупающая мидии будет переплачивать приобретая менее крупные магаданские мидии. Поэтому выберем значение 0.05 как компромиссное."
      ]
    },
    {
      "cell_type": "code",
      "execution_count": null,
      "metadata": {
        "id": "oYXt-TI3PG0O"
      },
      "outputs": [],
      "source": [
        "H0 = 'Различия в среднем несущественны, средние значения '\n",
        "Ha = 'Существенное различие в в размерах (мы отвергаем H0)'\n",
        "alpha = 0.05"
      ]
    },
    {
      "cell_type": "code",
      "execution_count": null,
      "metadata": {
        "id": "WZVV-FvMPG0O"
      },
      "outputs": [],
      "source": [
        "def avchecker(test, testname, df): # Фунция тестировавания нормальности\n",
        "    _, p = test(df.iloc[:,0], df.iloc[:,1])\n",
        "    print('Проверка гипотезы о среднем методом', testname)\n",
        "    print('p=%.3f' % p,\":\",H0 if p > alpha else Ha)"
      ]
    },
    {
      "cell_type": "markdown",
      "metadata": {
        "id": "oKFmVJ37PG0P"
      },
      "source": [
        "## Выбор метода проверки нулевой гипотезы"
      ]
    },
    {
      "cell_type": "markdown",
      "metadata": {
        "id": "_oc2OMV3PG0P"
      },
      "source": [
        "Итак у нас две независимые выборки с малым количеством наблюдений и подозрительной нормальностью. Метод ANOVA работает с более чем двумя выборками, \n",
        "и здесь его применение является избыточным. Следовательно у нас остаются параметрические тесты Стьюдента (t-test) и Z-критерия Фишера, а также непараметрический тест Вилкоксона-Манна-Уитни (U-test). Поскольку нас интересует сам факт различия средних размеров, а не направление их смещения, мы будем использовать двухсторонний тест\n",
        "\n",
        "Z тест как правило проводится на выборках содержащих 30 и более наблюдений, поскольку ему необходимо иметь оценку дисперсии генеральной совокупности, которая аппроксимируется дисперсией выборки содержащей достаточное количество измерений. В нашем случае измерений намного меньше, следовательно Z тест может привести к неверным выводам.  Поэтому проверку мы будем осуществлять с использованием теста Стьюдента, и параллельно проверим выборки тестом Вилкоксона-Манна-Уитни"
      ]
    },
    {
      "cell_type": "code",
      "execution_count": null,
      "metadata": {
        "id": "4_RgPPspPG0P",
        "outputId": "39d567ef-08b0-4165-9df9-cbfb6e953f59"
      },
      "outputs": [
        {
          "name": "stdout",
          "output_type": "stream",
          "text": [
            "Проверка гипотезы о среднем методом Стьюдента\n",
            "p=0.003 : Существенное различие в в размерах (мы отвергаем H0)\n"
          ]
        }
      ],
      "source": [
        "avchecker(ttest_ind, 'Стьюдента', mussels)"
      ]
    },
    {
      "cell_type": "code",
      "execution_count": null,
      "metadata": {
        "id": "pC92032aPG0P",
        "outputId": "dd97ec11-a73c-4a42-e481-bb0edf9f5fe0"
      },
      "outputs": [
        {
          "name": "stdout",
          "output_type": "stream",
          "text": [
            "Проверка гипотезы о среднем методом Вилкоксона-Манна-Уиттни\n",
            "p=0.007 : Существенное различие в в размерах (мы отвергаем H0)\n"
          ]
        }
      ],
      "source": [
        "avchecker(mannwhitneyu, 'Вилкоксона-Манна-Уиттни', mussels)"
      ]
    },
    {
      "cell_type": "markdown",
      "metadata": {
        "id": "PveZ7eBuPG0Q"
      },
      "source": [
        "Таким образом мы имеем консенсус тестов, что позволяет нам отвергнуть гипотезу Н0 и принять альтернативную ей гипотезу Ha, \n",
        "согласно которой мидии из Санкт-Петербурга в среднем крупнее мидий из Магадана."
      ]
    },
    {
      "cell_type": "markdown",
      "metadata": {
        "id": "MFtBDbQq1-vE"
      },
      "source": [
        "# Корреляция"
      ]
    },
    {
      "cell_type": "markdown",
      "metadata": {
        "id": "m3v988woPG0Q"
      },
      "source": [
        "Для начала нам необходимо определиться что собой представляет корреляция. Согласно определению, корреляция связывает характер \n",
        "изменения величины B при изменении величины А. То есть предполагается наличие некоего соответствия однозначного соответствия между \n",
        "наблюдениями в которых определяются значения переменных А и B. Например, сопоставление измерений размеров мидий одинаковых возрастов \n",
        "могло бы рассказать нам о корреляции между размерами мидий Магадана и Санкт-Петербурга, но для этого измерения должны были быть расположены в порядке взросления. В нашем же случае, отсутствует связь о том какой вклад вносит возраст (либо вид, условия содержания и пр. факторы). И поскольку мы не имеем возможности однозначно определить порядок элементов в сопоставляемых рядах. Мы можем оперировать только точечной оценкой- математическим ожиданием. А корреляция между двумя числами ничто иное как неопределённость вида \"0/0\" не имеющая никакого смысла. \n",
        "\n",
        "Так что же мы сможем оценить если прокоррелируем наши серии измерений в том виде как они есть? Только проверить гипотезу о том, что измерения осуществлялись бессистемно. В противном случае мы можем наблюдать корреляцию между рядами, отражающую порядок в котором осуществлялись измерения."
      ]
    },
    {
      "cell_type": "markdown",
      "metadata": {
        "id": "223RmwA3PG0R"
      },
      "source": [
        "Для начала посмотрим как коррелируют между собой имеющиеся результаты измерений. Поскольку тест  Шапиро-Уилка выявил отклонение от нормальности для распределения по размеру магаданских мидий, лучше использовать корреляцию Спирмена. \n",
        "\n",
        "Сформулируем 2 гипотезы \n",
        "* H0: Значимая зависимость между сериями наблюдений отсутствует.\n",
        "* Ha: Существует корреляция между сериями (гипотеза H0 отвергается)"
      ]
    },
    {
      "cell_type": "code",
      "execution_count": null,
      "metadata": {
        "id": "pcyekKDUPG0R",
        "outputId": "3c094ff8-e924-4ca3-f9b1-1aca20bc2a56"
      },
      "outputs": [
        {
          "data": {
            "text/plain": [
              "SpearmanrResult(correlation=0.15569141404872366, pvalue=0.712761707999163)"
            ]
          },
          "execution_count": 30,
          "metadata": {},
          "output_type": "execute_result"
        }
      ],
      "source": [
        "spearmanr(mussels.iloc[:,0], mussels.iloc[:,1])"
      ]
    },
    {
      "cell_type": "markdown",
      "metadata": {
        "id": "wj8zyvsEPG0S"
      },
      "source": [
        "Мы получили очень низкое значение коэффициента корреляции спирмена и  с очень высоким значением уровня значимости. Следовательно мы \n",
        "не можем отвергуть нулевую гипотезу, согласно который связь отсутствует."
      ]
    },
    {
      "cell_type": "markdown",
      "metadata": {
        "id": "1tEs1vUxPG0S"
      },
      "source": [
        "Однако, ничто не запрещает нам упорядочить размеры мидий по возрастанию, сделам это и повторим определение корреляции."
      ]
    },
    {
      "cell_type": "code",
      "execution_count": null,
      "metadata": {
        "id": "Pk413gLvPG0T"
      },
      "outputs": [],
      "source": [
        "from numpy import median"
      ]
    },
    {
      "cell_type": "code",
      "execution_count": null,
      "metadata": {
        "id": "YePYrw2EPG0T"
      },
      "outputs": [],
      "source": [
        "petersburg.append(median(petersburg)) # Заполняем отсутсвующее наблюдение медианным\n",
        "\n",
        "mussels_s=pd.DataFrame(data=[sorted(petersburg), sorted(magadan)]).T\n",
        "mussels_s.columns=['Saint-Petersburg', 'Magadan']\n"
      ]
    },
    {
      "cell_type": "code",
      "execution_count": null,
      "metadata": {
        "id": "qUAU5q-MPG0T",
        "outputId": "ee118e66-ad0d-45b3-dc93-da5718c6bce7"
      },
      "outputs": [
        {
          "data": {
            "text/plain": [
              "SpearmanrResult(correlation=0.994029797388005, pvalue=5.296153515644539e-07)"
            ]
          },
          "execution_count": 35,
          "metadata": {},
          "output_type": "execute_result"
        }
      ],
      "source": [
        "spearmanr(mussels_s.iloc[:,0], mussels_s.iloc[:,1])"
      ]
    },
    {
      "cell_type": "markdown",
      "metadata": {
        "id": "1028Lbas2CZ5"
      },
      "source": [
        "Итак, если бы оба измерения осущесвлялись бы строго в порядке от меньшего к большему, у нас была бы крайне высокая степень корреляции между сериями измерений причём с очень низким значением P-Value, опровергающим гипотезу об отсутствии корреляции."
      ]
    },
    {
      "cell_type": "markdown",
      "metadata": {
        "id": "RYhwnB2wPG0U"
      },
      "source": [
        "# ВЫВОДЫ"
      ]
    },
    {
      "cell_type": "markdown",
      "metadata": {
        "id": "36gE1ajJPG0V"
      },
      "source": [
        "1) Среднее значение размера у мидий из Санкт-Петербурга на 32% больше значения для мидий из Магадана.\n",
        "\n",
        "2) По данным тестов на нормальность, отклонение от нормальности (p-Value=0.036) обнаружено только в серии магаданских мидий при тесте Шапиро-Уилка. В первом приближении можно принять нулевую гипотезу и считать обе выборки нормальными. При этом необходимо понимать, что ввиду малого количества наблюдений оценки средних значений являются неустойчивыми.\n",
        "\n",
        "3) И Т-тест Стьюдента и U-тест Уилкоксона-Манна-Уитни позволят отвергнуть нулевую гипотезу о равенстве средних значений размеров мидий\n",
        "\n",
        "4) Отутствует информация позволяющая однозначно ответить на вопрос о корреляции между размерами мидий выращенных в Санкт-Петербурге и Магадане. При корреляции \"в лоб\" (в том порядке как размеры перечислены в серии) коэффицент непараметрической корреляции Спирмена равен 0.15 высокое значение P-value (0.74) не позволяет отвергнуть гипотезу об отутствии корреляции между сериями. Это значение позволяет сделать предположение о бессистемном определение размеров."
      ]
    },
    {
      "cell_type": "code",
      "execution_count": null,
      "metadata": {
        "id": "tuOqIJE5PG0V"
      },
      "outputs": [],
      "source": []
    }
  ],
  "metadata": {
    "colab": {
      "provenance": [],
      "include_colab_link": true
    },
    "kernelspec": {
      "display_name": "Python 3 (ipykernel)",
      "language": "python",
      "name": "python3"
    },
    "language_info": {
      "codemirror_mode": {
        "name": "ipython",
        "version": 3
      },
      "file_extension": ".py",
      "mimetype": "text/x-python",
      "name": "python",
      "nbconvert_exporter": "python",
      "pygments_lexer": "ipython3",
      "version": "3.9.12"
    }
  },
  "nbformat": 4,
  "nbformat_minor": 0
}